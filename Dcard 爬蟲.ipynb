{
 "cells": [
  {
   "cell_type": "markdown",
   "metadata": {},
   "source": [
    "# 抓取 Dcard 資料"
   ]
  },
  {
   "cell_type": "markdown",
   "metadata": {},
   "source": [
    "### 載入套件"
   ]
  },
  {
   "cell_type": "code",
   "execution_count": 1,
   "metadata": {},
   "outputs": [],
   "source": [
    "import pandas as pd\n",
    "import requests\n",
    "import re\n",
    "from bs4 import BeautifulSoup"
   ]
  },
  {
   "cell_type": "markdown",
   "metadata": {},
   "source": [
    "### 取得 Dcard 網頁內容"
   ]
  },
  {
   "cell_type": "code",
   "execution_count": 2,
   "metadata": {},
   "outputs": [
    {
     "data": {
      "text/plain": [
       "'<!DOCTYPE html>\\n<html lang=\"zh-Hant-TW\"><head itemscope=\"\" itemtype=\"https://schema.org/WebSite\" prefix=\"og: http://ogp.me/ns#\"><title data-react-helmet=\"true\">Dcard</title><meta content=\"https://www.dcard.tw/build/landing-c9e7b8fb.png\" data-react-helmet=\"true\" property=\"og:image\"/><meta content=\"https://www.dcard.tw/build/landing-c9e7b8fb.png\" data-react-helmet=\"true\" property=\"og:image:secure_url\"/><meta charset=\"utf-8\" data-react-helmet=\"true\"/><meta content=\"IE=edge\" data-react-helmet=\"true\" http-equiv=\"X-UA-Compatible\"/><meta content=\"Dcard\" data-react-helmet=\"true\" name=\"application-name\"/><meta content=\"app-id=951353454\" data-react-helmet=\"true\" name=\"apple-itunes-app\"/><meta content=\"#006aa6\" data-react-helmet=\"true\" name=\"theme-color\"/><meta content=\"yes\" data-react-helmet=\"true\" name=\"mobile-web-app-capable\"/><meta content=\"yes\" data-react-helmet=\"true\" name=\"apple-mobile-web-app-capable\"/><meta content=\"211628828926493\" data-react-helmet=\"true\" property=\"fb:app_id\"/><meta content=\"178875832200695,577748865730563,1333515469994506,619122564952487,804004803032067,178024805867764\" data-react-helmet=\"true\" property=\"fb:pages\"/><meta content=\"951353454\" data-react-helmet=\"true\" property=\"al:ios:app_store_id\"/><meta content=\"Dcard\" data-react-helmet=\"true\" property=\"al:ios:app_name\"/><meta content=\"com.sparkslab.dcardreader\" data-react-helmet=\"true\" property=\"al:android:package\"/><meta content=\"Dcard\" data-react-helmet=\"true\" property=\"al:android:app_name\"/><meta content=\"website\" data-react-helmet=\"true\" property=\"og:type\"/><meta content=\"Dcard\" data-react-helmet=\"true\" property=\"og:site_name\"/><meta content=\"Dcard\" data-react-helmet=\"true\" property=\"og:title\"/><meta content=\"https://www.dcard.tw/f\" data-react-helmet=\"true\" property=\"og:url\"/><meta content=\"\\xe5\\xbb\\xa3\\xe5\\x8f\\x97\\xe5\\xb9\\xb4\\xe8\\xbc\\x95\\xe4\\xba\\xba\\xe5\\x96\\x9c\\xe6\\x84\\x9b\\xe7\\x9a\\x84  Dcard  \\xe6\\x98\\xaf\\xe5\\x8f\\xb0\\xe7\\x81\\xa3\\xe6\\x9c\\x80\\xe5\\xa4\\xa7\\xe7\\x9a\\x84\\xe5\\x8c\\xbf\\xe5\\x90\\x8d\\xe4\\xba\\xa4\\xe6\\xb5\\x81\\xe5\\xb9\\xb3\\xe5\\x8f\\xb0\\xef\\xbc\\x8c\\xe8\\x88\\x89\\xe5\\x87\\xa1\\xe6\\x99\\x82\\xe4\\xba\\x8b\\xe8\\xa9\\xb1\\xe9\\xa1\\x8c\\xe3\\x80\\x81\\xe6\\x84\\x9f\\xe6\\x83\\x85\\xe5\\xbf\\x83\\xe6\\x83\\x85\\xe3\\x80\\x81\\xe5\\x90\\x83\\xe5\\x96\\x9d\\xe7\\x8e\\xa9\\xe6\\xa8\\x82\\xe3\\x80\\x81\\xe5\\xad\\xb8\\xe7\\xbf\\x92\\xe5\\xb7\\xa5\\xe4\\xbd\\x9c\\xe7\\xad\\x89\\xef\\xbc\\x8c\\xe9\\x83\\xbd\\xe6\\x9c\\x89\\xe5\\x8d\\xa1\\xe5\\x8f\\x8b\\xe9\\x99\\xaa\\xe4\\xbd\\xa0\\xe8\\x81\\x8a\\xef\\xbc\\x81\" data-react-helmet=\"true\" name=\"description\"/><meta content=\"\\xe5\\xbb\\xa3\\xe5\\x8f\\x97\\xe5\\xb9\\xb4\\xe8\\xbc\\x95\\xe4\\xba\\xba\\xe5\\x96\\x9c\\xe6\\x84\\x9b\\xe7\\x9a\\x84  Dcard  \\xe6\\x98\\xaf\\xe5\\x8f\\xb0\\xe7\\x81\\xa3\\xe6\\x9c\\x80\\xe5\\xa4\\xa7\\xe7\\x9a\\x84\\xe5\\x8c\\xbf\\xe5\\x90\\x8d\\xe4\\xba\\xa4\\xe6\\xb5\\x81\\xe5\\xb9\\xb3\\xe5\\x8f\\xb0\\xef\\xbc\\x8c\\xe8\\x88\\x89\\xe5\\x87\\xa1\\xe6\\x99\\x82\\xe4\\xba\\x8b\\xe8\\xa9\\xb1\\xe9\\xa1\\x8c\\xe3\\x80\\x81\\xe6\\x84\\x9f\\xe6\\x83\\x85\\xe5\\xbf\\x83\\xe6\\x83\\x85\\xe3\\x80\\x81\\xe5\\x90\\x83\\xe5\\x96\\x9d\\xe7\\x8e\\xa9\\xe6\\xa8\\x82\\xe3\\x80\\x81\\xe5\\xad\\xb8\\xe7\\xbf\\x92\\xe5\\xb7\\xa5\\xe4\\xbd\\x9c\\xe7\\xad\\x89\\xef\\xbc\\x8c\\xe9\\x83\\xbd\\xe6\\x9c\\x89\\xe5\\x8d\\xa1\\xe5\\x8f\\x8b\\xe9\\x99\\xaa\\xe4\\xbd\\xa0\\xe8\\x81\\x8a\\xef\\xbc\\x81\" data-react-helmet=\"true\" property=\"og:description\"/><meta content=\"dcard://category/all/\\xe5\\x85\\xa8\\xe9\\x83\\xa8/hot\" data-react-helmet=\"true\" property=\"al:ios:url\"/><meta content=\"dcard://category/all/\\xe5\\x85\\xa8\\xe9\\x83\\xa8/hot\" data-react-helmet=\"true\" property=\"al:android:url\"/><link data-react-helmet=\"true\" href=\"/build/favicon_32-44259074.png\" rel=\"icon\" sizes=\"32x32\" type=\"image/png\"/><link data-react-helmet=\"true\" href=\"/build/favicon_72-45b1e0ba.png\" rel=\"icon\" sizes=\"72x72\" type=\"image/png\"/><link data-react-helmet=\"true\" href=\"/build/favicon_512-8aee0703.png\" rel=\"icon\" sizes=\"512x512\" type=\"image/png\"/><link data-react-helmet=\"true\" href=\"/build/favicon_144-79557003.png\" rel=\"apple-touch-icon-precomposed\"/><link data-react-helmet=\"true\" href=\"/build/favicon_114-4a463b43.png\" rel=\"apple-touch-icon-precomposed\"/><link data-rea'"
      ]
     },
     "execution_count": 2,
     "metadata": {},
     "output_type": "execute_result"
    }
   ],
   "source": [
    "URL = 'https://www.dcard.tw/f'\n",
    "resp = requests.get(URL)\n",
    "soup = BeautifulSoup(resp.text, 'html.parser')\n",
    "# soup\n",
    "str(soup)[:3000] # 把結果放到 github 會變太長，所以只顯示前面的部分"
   ]
  },
  {
   "cell_type": "markdown",
   "metadata": {},
   "source": [
    "### 找出熱門文章"
   ]
  },
  {
   "cell_type": "code",
   "execution_count": 4,
   "metadata": {},
   "outputs": [
    {
     "name": "stdout",
     "output_type": "stream",
     "text": [
      "共 30 篇\n"
     ]
    },
    {
     "data": {
      "text/html": [
       "<div>\n",
       "<style scoped>\n",
       "    .dataframe tbody tr th:only-of-type {\n",
       "        vertical-align: middle;\n",
       "    }\n",
       "\n",
       "    .dataframe tbody tr th {\n",
       "        vertical-align: top;\n",
       "    }\n",
       "\n",
       "    .dataframe thead th {\n",
       "        text-align: right;\n",
       "    }\n",
       "</style>\n",
       "<table border=\"1\" class=\"dataframe\">\n",
       "  <thead>\n",
       "    <tr style=\"text-align: right;\">\n",
       "      <th></th>\n",
       "      <th>title</th>\n",
       "      <th>excerpt</th>\n",
       "      <th>like_count</th>\n",
       "      <th>comments</th>\n",
       "      <th>link</th>\n",
       "    </tr>\n",
       "  </thead>\n",
       "  <tbody>\n",
       "    <tr>\n",
       "      <th>0</th>\n",
       "      <td>幫高調！急！！！</td>\n",
       "      <td>昨天用機車載了我跟妹妹去上學之後，回家換了汽車不知道去哪裡，手機也沒帶，公司也打來家裡說他沒...</td>\n",
       "      <td>25825</td>\n",
       "      <td>258</td>\n",
       "      <td>/f/relationship/p/231283905-幫高調！急！！！</td>\n",
       "    </tr>\n",
       "    <tr>\n",
       "      <th>1</th>\n",
       "      <td>有人把韓國瑜海綿寶寶做出來</td>\n",
       "      <td>漫威要求創作韓國瑜的故事</td>\n",
       "      <td>8597</td>\n",
       "      <td>225</td>\n",
       "      <td>/f/trending/p/231286770-有人把韓國瑜海綿寶寶做出來</td>\n",
       "    </tr>\n",
       "    <tr>\n",
       "      <th>2</th>\n",
       "      <td>要怎麼陪爸爸考英文</td>\n",
       "      <td>上大學之後就很少回家了，就和大部分同學一樣，大概幾個禮拜回家那種，有時候回去，才發現父母的白...</td>\n",
       "      <td>6940</td>\n",
       "      <td>101</td>\n",
       "      <td>/f/exam/p/231285879-要怎麼陪爸爸考英文</td>\n",
       "    </tr>\n",
       "    <tr>\n",
       "      <th>3</th>\n",
       "      <td>會幫女友吹頭髮的男友最帥了</td>\n",
       "      <td>大多女生都不太愛吹頭髮，我也算在這之中，尤其是長頭髮真的要命，之前和前任在一起時，他是會幫我...</td>\n",
       "      <td>5811</td>\n",
       "      <td>209</td>\n",
       "      <td>/f/relationship/p/231283276-會幫女友吹頭髮的男友最帥了</td>\n",
       "    </tr>\n",
       "    <tr>\n",
       "      <th>4</th>\n",
       "      <td>如果中午打開便當長這樣....</td>\n",
       "      <td>腳丫也來一點好了～恩....嚇到吃腳腳，這是嘔吐物的概念ＸＤ，來源：只能說太有才啦，但拜託我...</td>\n",
       "      <td>4212</td>\n",
       "      <td>73</td>\n",
       "      <td>/f/food/p/231285581-如果中午打開便當長這樣....</td>\n",
       "    </tr>\n",
       "  </tbody>\n",
       "</table>\n",
       "</div>"
      ],
      "text/plain": [
       "             title                                            excerpt  \\\n",
       "0         幫高調！急！！！  昨天用機車載了我跟妹妹去上學之後，回家換了汽車不知道去哪裡，手機也沒帶，公司也打來家裡說他沒...   \n",
       "1    有人把韓國瑜海綿寶寶做出來                                       漫威要求創作韓國瑜的故事   \n",
       "2        要怎麼陪爸爸考英文  上大學之後就很少回家了，就和大部分同學一樣，大概幾個禮拜回家那種，有時候回去，才發現父母的白...   \n",
       "3    會幫女友吹頭髮的男友最帥了  大多女生都不太愛吹頭髮，我也算在這之中，尤其是長頭髮真的要命，之前和前任在一起時，他是會幫我...   \n",
       "4  如果中午打開便當長這樣....  腳丫也來一點好了～恩....嚇到吃腳腳，這是嘔吐物的概念ＸＤ，來源：只能說太有才啦，但拜託我...   \n",
       "\n",
       "  like_count comments                                       link  \n",
       "0      25825      258       /f/relationship/p/231283905-幫高調！急！！！  \n",
       "1       8597      225      /f/trending/p/231286770-有人把韓國瑜海綿寶寶做出來  \n",
       "2       6940      101              /f/exam/p/231285879-要怎麼陪爸爸考英文  \n",
       "3       5811      209  /f/relationship/p/231283276-會幫女友吹頭髮的男友最帥了  \n",
       "4       4212       73        /f/food/p/231285581-如果中午打開便當長這樣....  "
      ]
     },
     "execution_count": 4,
     "metadata": {},
     "output_type": "execute_result"
    }
   ],
   "source": [
    "articles = []\n",
    "# 利用 regex 找出所有貼文\n",
    "for item in soup.find_all('div', re.compile('PostList_entry')):\n",
    "    articles.append({\n",
    "        'title': item.h3.text,\n",
    "        'excerpt': item.find_all('div', re.compile('PostEntry_(excerpt|reply)'))[0].text,\n",
    "        'like_count': item.find_all('div', re.compile('PostEntry__LikeCount'))[0].text,\n",
    "        'comments': re.findall(r'\\d+', item.find_all('span', re.compile('PostEntry_comments'))[0].text)[0],\n",
    "        'link': item.find_all('a', re.compile('PostEntry_root'))[0]['href']\n",
    "    })\n",
    "\n",
    "df = pd.DataFrame(articles, columns=['title', 'excerpt', 'like_count', 'comments', 'link'])  # 使用 columns 調整排列順序\n",
    "print('共 %d 篇' % (len(df)))\n",
    "df[:5] # 印出前 5 筆"
   ]
  },
  {
   "cell_type": "markdown",
   "metadata": {},
   "source": [
    "# 使用 mLab 雲端資料庫"
   ]
  },
  {
   "cell_type": "markdown",
   "metadata": {},
   "source": [
    "### 載入套件"
   ]
  },
  {
   "cell_type": "code",
   "execution_count": 43,
   "metadata": {},
   "outputs": [],
   "source": [
    "import pandas as pd\n",
    "import urllib.parse\n",
    "import pymongo\n",
    "from datetime import datetime\n",
    "from pymongo import MongoClient\n",
    "from bson.objectid import ObjectId"
   ]
  },
  {
   "cell_type": "markdown",
   "metadata": {},
   "source": [
    "### 設置基本資料"
   ]
  },
  {
   "cell_type": "code",
   "execution_count": 8,
   "metadata": {},
   "outputs": [],
   "source": [
    "host = 'ds263089.mlab.com'\n",
    "port = '63089'\n",
    "username = urllib.parse.quote_plus('fergus')\n",
    "password = urllib.parse.quote_plus('abc123')\n",
    "Authdb = 'dcard'"
   ]
  },
  {
   "cell_type": "markdown",
   "metadata": {},
   "source": [
    "### 與資料庫連線"
   ]
  },
  {
   "cell_type": "code",
   "execution_count": 26,
   "metadata": {},
   "outputs": [],
   "source": [
    "client = MongoClient('mongodb://%s:%s@%s:%s/%s?authMechanism=SCRAM-SHA-1'\n",
    "                      % (username, password, host, port, Authdb))\n",
    "\n",
    "db = client[Authdb]"
   ]
  },
  {
   "cell_type": "markdown",
   "metadata": {},
   "source": [
    "### 創建 collection"
   ]
  },
  {
   "cell_type": "code",
   "execution_count": 27,
   "metadata": {},
   "outputs": [
    {
     "data": {
      "text/plain": [
       "Collection(Database(MongoClient(host=['ds263089.mlab.com:63089'], document_class=dict, tz_aware=False, connect=True, authmechanism='SCRAM-SHA-1'), 'dcard'), 'posts.stats')"
      ]
     },
     "execution_count": 27,
     "metadata": {},
     "output_type": "execute_result"
    }
   ],
   "source": [
    "collection_name = 'posts'\n",
    "coll = db[collection_name]\n",
    "# 查看是否連線成功\n",
    "coll.stats"
   ]
  },
  {
   "cell_type": "code",
   "execution_count": 29,
   "metadata": {},
   "outputs": [
    {
     "name": "stdout",
     "output_type": "stream",
     "text": [
      "<pymongo.cursor.Cursor object at 0x1142c7908>\n",
      "[]\n"
     ]
    }
   ],
   "source": [
    "#取出所有doc\n",
    "print(coll.find())\n",
    "\n",
    "# 轉成list\n",
    "print(list(coll.find()))"
   ]
  },
  {
   "cell_type": "markdown",
   "metadata": {},
   "source": [
    "### 插入單筆資料"
   ]
  },
  {
   "cell_type": "code",
   "execution_count": 49,
   "metadata": {},
   "outputs": [
    {
     "data": {
      "text/plain": [
       "[{'_id': ObjectId('5cdc269b3fc7f2c0c5786879'),\n",
       "  'userid': '01',\n",
       "  'username': 'user1',\n",
       "  'creattime': datetime.datetime(2019, 5, 15, 22, 47, 55, 697000),\n",
       "  'category': 'category1'}]"
      ]
     },
     "execution_count": 49,
     "metadata": {},
     "output_type": "execute_result"
    }
   ],
   "source": [
    "dic = {\n",
    "    'userid':'01',\n",
    "    'username':'user1',\n",
    "    'creattime':datetime.now(),\n",
    "    'category': 'category1'\n",
    "}\n",
    "\n",
    "coll.insert_one(dic)\n",
    "list(coll.find())  # 查看資料"
   ]
  },
  {
   "cell_type": "markdown",
   "metadata": {},
   "source": [
    "### 插入多筆資料"
   ]
  },
  {
   "cell_type": "code",
   "execution_count": 50,
   "metadata": {},
   "outputs": [
    {
     "data": {
      "text/plain": [
       "[{'_id': ObjectId('5cdc269b3fc7f2c0c5786879'),\n",
       "  'userid': '01',\n",
       "  'username': 'user1',\n",
       "  'creattime': datetime.datetime(2019, 5, 15, 22, 47, 55, 697000),\n",
       "  'category': 'category1'},\n",
       " {'_id': ObjectId('5cdc269e3fc7f2c0c578687a'),\n",
       "  'userid': '02',\n",
       "  'username': 'user2',\n",
       "  'creattime': datetime.datetime(2019, 5, 15, 22, 47, 58, 860000),\n",
       "  'category': 'category1'},\n",
       " {'_id': ObjectId('5cdc269e3fc7f2c0c578687b'),\n",
       "  'userid': '03',\n",
       "  'username': 'user3',\n",
       "  'creattime': datetime.datetime(2019, 5, 1, 18, 26, 42),\n",
       "  'category': 'category1'},\n",
       " {'_id': ObjectId('5cdc269e3fc7f2c0c578687c'),\n",
       "  'userid': '04',\n",
       "  'username': 'user4',\n",
       "  'creattime': datetime.datetime(2019, 5, 15, 22, 47, 58, 861000),\n",
       "  'category': 'category2'},\n",
       " {'_id': ObjectId('5cdc269e3fc7f2c0c578687d'),\n",
       "  'userid': '05',\n",
       "  'username': 'user5',\n",
       "  'creattime': datetime.datetime(2019, 5, 15, 22, 47, 58, 861000),\n",
       "  'category': 'category2'}]"
      ]
     },
     "execution_count": 50,
     "metadata": {},
     "output_type": "execute_result"
    }
   ],
   "source": [
    "dic_list = [\n",
    "    {\n",
    "        'userid':'02',\n",
    "        'username':'user2',\n",
    "        'creattime':datetime.now(),\n",
    "        'category': 'category1'\n",
    "    },\n",
    "    {\n",
    "        'userid':'03',\n",
    "        'username':'user3',\n",
    "        'creattime':datetime.strptime('2019-05-01 18:26:42', '%Y-%m-%d %H:%M:%S'),\n",
    "        'category': 'category1'\n",
    "    },\n",
    "    {\n",
    "        'userid':'04',\n",
    "        'username':'user4',\n",
    "        'creattime':datetime.now(),\n",
    "        'category': 'category2'\n",
    "    },\n",
    "    {\n",
    "        'userid':'05',\n",
    "        'username':'user5',\n",
    "        'creattime':datetime.now(),\n",
    "        'category': 'category2'\n",
    "    },\n",
    "]\n",
    "\n",
    "coll.insert_many(dic_list)\n",
    "list(coll.find())"
   ]
  },
  {
   "cell_type": "markdown",
   "metadata": {},
   "source": [
    "### 排序"
   ]
  },
  {
   "cell_type": "code",
   "execution_count": 23,
   "metadata": {},
   "outputs": [
    {
     "data": {
      "text/plain": [
       "[{'_id': ObjectId('5cdc180e3fc7f2c0c5786862'),\n",
       "  'userid': '01',\n",
       "  'username': 'user1',\n",
       "  'creattime': datetime.datetime(2019, 5, 15, 21, 45, 50, 291000),\n",
       "  'type': 'type1'},\n",
       " {'_id': ObjectId('5cdc18be3fc7f2c0c5786867'),\n",
       "  'userid': '02',\n",
       "  'username': 'user2',\n",
       "  'creattime': datetime.datetime(2019, 5, 15, 21, 48, 46, 167000),\n",
       "  'type': 'type1'},\n",
       " {'_id': ObjectId('5cdc18be3fc7f2c0c5786868'),\n",
       "  'userid': '03',\n",
       "  'username': 'user3',\n",
       "  'creattime': datetime.datetime(2019, 5, 15, 21, 48, 46, 167000),\n",
       "  'type': 'type1'},\n",
       " {'_id': ObjectId('5cdc18be3fc7f2c0c5786869'),\n",
       "  'userid': '04',\n",
       "  'username': 'user4',\n",
       "  'creattime': datetime.datetime(2019, 5, 15, 21, 48, 46, 167000),\n",
       "  'type': 'type2'},\n",
       " {'_id': ObjectId('5cdc18be3fc7f2c0c578686a'),\n",
       "  'userid': '05',\n",
       "  'username': 'user5',\n",
       "  'creattime': datetime.datetime(2019, 5, 15, 21, 48, 46, 167000),\n",
       "  'type': 'type5'}]"
      ]
     },
     "execution_count": 23,
     "metadata": {},
     "output_type": "execute_result"
    }
   ],
   "source": [
    "# 預設遞增(ASCENDING)排序 A -> Z\n",
    "list(coll.find().sort(\"username\"))\n",
    "# list(coll.find().sort(\"username\",pymongo.ASCENDING))\n",
    "# list(coll.find().sort(\"username\",pymongo.DESCENDING))"
   ]
  },
  {
   "cell_type": "markdown",
   "metadata": {},
   "source": [
    "### 依時間區間選取"
   ]
  },
  {
   "cell_type": "code",
   "execution_count": 41,
   "metadata": {},
   "outputs": [
    {
     "data": {
      "text/plain": [
       "[{'_id': ObjectId('5cdc1f823fc7f2c0c5786876'),\n",
       "  'userid': '03',\n",
       "  'username': 'user3',\n",
       "  'creattime': datetime.datetime(2019, 5, 1, 18, 26, 42),\n",
       "  'category': 'category1'}]"
      ]
     },
     "execution_count": 41,
     "metadata": {},
     "output_type": "execute_result"
    }
   ],
   "source": [
    "start = datetime.strptime('2019-05-01 00:00:00',\n",
    "                           '%Y-%m-%d %H:%M:%S')\n",
    "end = datetime.strptime('2019-05-01 23:59:59',\n",
    "                           '%Y-%m-%d %H:%M:%S')\n",
    "list(coll.find({'creattime': {'$gte': start, '$lt': end}}))"
   ]
  },
  {
   "cell_type": "markdown",
   "metadata": {},
   "source": [
    "### 依照 id 選取"
   ]
  },
  {
   "cell_type": "code",
   "execution_count": 44,
   "metadata": {},
   "outputs": [
    {
     "data": {
      "text/plain": [
       "[{'_id': ObjectId('5cdc1e4c3fc7f2c0c5786870'),\n",
       "  'userid': '01',\n",
       "  'username': 'user1',\n",
       "  'creattime': datetime.datetime(2019, 5, 15, 22, 12, 28, 104000),\n",
       "  'category': 'category1'}]"
      ]
     },
     "execution_count": 44,
     "metadata": {},
     "output_type": "execute_result"
    }
   ],
   "source": [
    "list(coll.find({'_id':ObjectId('5cdc1e4c3fc7f2c0c5786870')}))"
   ]
  },
  {
   "cell_type": "markdown",
   "metadata": {},
   "source": [
    "### 更新資料(整個覆蓋)"
   ]
  },
  {
   "cell_type": "code",
   "execution_count": 51,
   "metadata": {},
   "outputs": [
    {
     "data": {
      "text/plain": [
       "[{'_id': ObjectId('5cdc269b3fc7f2c0c5786879'),\n",
       "  'username': 'user6',\n",
       "  'category': 'category3'},\n",
       " {'_id': ObjectId('5cdc269e3fc7f2c0c578687a'),\n",
       "  'userid': '02',\n",
       "  'username': 'user2',\n",
       "  'creattime': datetime.datetime(2019, 5, 15, 22, 47, 58, 860000),\n",
       "  'category': 'category1'},\n",
       " {'_id': ObjectId('5cdc269e3fc7f2c0c578687b'),\n",
       "  'userid': '03',\n",
       "  'username': 'user3',\n",
       "  'creattime': datetime.datetime(2019, 5, 1, 18, 26, 42),\n",
       "  'category': 'category1'},\n",
       " {'_id': ObjectId('5cdc269e3fc7f2c0c578687c'),\n",
       "  'userid': '04',\n",
       "  'username': 'user4',\n",
       "  'creattime': datetime.datetime(2019, 5, 15, 22, 47, 58, 861000),\n",
       "  'category': 'category2'},\n",
       " {'_id': ObjectId('5cdc269e3fc7f2c0c578687d'),\n",
       "  'userid': '05',\n",
       "  'username': 'user5',\n",
       "  'creattime': datetime.datetime(2019, 5, 15, 22, 47, 58, 861000),\n",
       "  'category': 'category2'}]"
      ]
     },
     "execution_count": 51,
     "metadata": {},
     "output_type": "execute_result"
    }
   ],
   "source": [
    "coll.replace_one({'username':'user1'} ,\n",
    "             {'username':'user6', 'category':'category3'})\n",
    "list(coll.find())"
   ]
  },
  {
   "cell_type": "markdown",
   "metadata": {},
   "source": [
    "### 更新資料(修改元素)"
   ]
  },
  {
   "cell_type": "code",
   "execution_count": 52,
   "metadata": {},
   "outputs": [
    {
     "data": {
      "text/plain": [
       "[{'_id': ObjectId('5cdc269b3fc7f2c0c5786879'),\n",
       "  'username': 'user6',\n",
       "  'category': 'category3'},\n",
       " {'_id': ObjectId('5cdc269e3fc7f2c0c578687b'),\n",
       "  'userid': '03',\n",
       "  'username': 'user3',\n",
       "  'creattime': datetime.datetime(2019, 5, 1, 18, 26, 42),\n",
       "  'category': 'category1'},\n",
       " {'_id': ObjectId('5cdc269e3fc7f2c0c578687c'),\n",
       "  'userid': '04',\n",
       "  'username': 'user4',\n",
       "  'creattime': datetime.datetime(2019, 5, 15, 22, 47, 58, 861000),\n",
       "  'category': 'category2'},\n",
       " {'_id': ObjectId('5cdc269e3fc7f2c0c578687d'),\n",
       "  'userid': '05',\n",
       "  'username': 'user5',\n",
       "  'creattime': datetime.datetime(2019, 5, 15, 22, 47, 58, 861000),\n",
       "  'category': 'category2'},\n",
       " {'_id': ObjectId('5cdc269e3fc7f2c0c578687a'),\n",
       "  'userid': '02',\n",
       "  'username': 'user2',\n",
       "  'creattime': datetime.datetime(2019, 5, 15, 22, 47, 58, 860000),\n",
       "  'category': 'category4',\n",
       "  'comments': 123}]"
      ]
     },
     "execution_count": 52,
     "metadata": {},
     "output_type": "execute_result"
    }
   ],
   "source": [
    "coll.update_one({\"username\":\"user2\"},\n",
    "            {\"$set\":{\"category\":\"category4\",\"comments\": 123}})\n",
    "list(coll.find())"
   ]
  },
  {
   "cell_type": "markdown",
   "metadata": {},
   "source": [
    "### 移除單筆資料"
   ]
  },
  {
   "cell_type": "code",
   "execution_count": 54,
   "metadata": {},
   "outputs": [
    {
     "data": {
      "text/plain": [
       "[{'_id': ObjectId('5cdc269e3fc7f2c0c578687b'),\n",
       "  'userid': '03',\n",
       "  'username': 'user3',\n",
       "  'creattime': datetime.datetime(2019, 5, 1, 18, 26, 42),\n",
       "  'category': 'category1'},\n",
       " {'_id': ObjectId('5cdc269e3fc7f2c0c578687c'),\n",
       "  'userid': '04',\n",
       "  'username': 'user4',\n",
       "  'creattime': datetime.datetime(2019, 5, 15, 22, 47, 58, 861000),\n",
       "  'category': 'category2'},\n",
       " {'_id': ObjectId('5cdc269e3fc7f2c0c578687d'),\n",
       "  'userid': '05',\n",
       "  'username': 'user5',\n",
       "  'creattime': datetime.datetime(2019, 5, 15, 22, 47, 58, 861000),\n",
       "  'category': 'category2'},\n",
       " {'_id': ObjectId('5cdc269e3fc7f2c0c578687a'),\n",
       "  'userid': '02',\n",
       "  'username': 'user2',\n",
       "  'creattime': datetime.datetime(2019, 5, 15, 22, 47, 58, 860000),\n",
       "  'category': 'category4',\n",
       "  'comments': 123}]"
      ]
     },
     "execution_count": 54,
     "metadata": {},
     "output_type": "execute_result"
    }
   ],
   "source": [
    "coll.delete_one({'username':'user6'})\n",
    "list(coll.find())"
   ]
  },
  {
   "cell_type": "markdown",
   "metadata": {},
   "source": [
    "### 移除多筆資料"
   ]
  },
  {
   "cell_type": "code",
   "execution_count": 56,
   "metadata": {},
   "outputs": [
    {
     "data": {
      "text/plain": [
       "[{'_id': ObjectId('5cdc269e3fc7f2c0c578687b'),\n",
       "  'userid': '03',\n",
       "  'username': 'user3',\n",
       "  'creattime': datetime.datetime(2019, 5, 1, 18, 26, 42),\n",
       "  'category': 'category1'},\n",
       " {'_id': ObjectId('5cdc269e3fc7f2c0c578687a'),\n",
       "  'userid': '02',\n",
       "  'username': 'user2',\n",
       "  'creattime': datetime.datetime(2019, 5, 15, 22, 47, 58, 860000),\n",
       "  'category': 'category4',\n",
       "  'comments': 123}]"
      ]
     },
     "execution_count": 56,
     "metadata": {},
     "output_type": "execute_result"
    }
   ],
   "source": [
    "coll.delete_many({'category':'category2'})\n",
    "list(coll.find())"
   ]
  },
  {
   "cell_type": "markdown",
   "metadata": {},
   "source": [
    "### 移除所有資料"
   ]
  },
  {
   "cell_type": "code",
   "execution_count": 57,
   "metadata": {},
   "outputs": [
    {
     "data": {
      "text/plain": [
       "[]"
      ]
     },
     "execution_count": 57,
     "metadata": {},
     "output_type": "execute_result"
    }
   ],
   "source": [
    "coll.delete_many({})\n",
    "list(coll.find())"
   ]
  }
 ],
 "metadata": {
  "kernelspec": {
   "display_name": "Python 2",
   "language": "python",
   "name": "python2"
  },
  "language_info": {
   "codemirror_mode": {
    "name": "ipython",
    "version": 2
   },
   "file_extension": ".py",
   "mimetype": "text/x-python",
   "name": "python",
   "nbconvert_exporter": "python",
   "pygments_lexer": "ipython2",
   "version": "2.7.15"
  }
 },
 "nbformat": 4,
 "nbformat_minor": 2
}
